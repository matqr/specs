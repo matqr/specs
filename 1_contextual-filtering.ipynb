{
 "cells": [
  {
   "cell_type": "code",
   "execution_count": 1,
   "id": "4879fbd4-f8c8-483e-aa09-28a815fc7823",
   "metadata": {},
   "outputs": [],
   "source": [
    "import pandas as pd"
   ]
  },
  {
   "cell_type": "markdown",
   "id": "2571d2f4-4a51-4715-84d7-c0049ccba449",
   "metadata": {},
   "source": [
    "# Load file with available points"
   ]
  },
  {
   "cell_type": "code",
   "execution_count": 2,
   "id": "ef168ef4-98ce-4a9d-81f5-f2f7042375ac",
   "metadata": {},
   "outputs": [
    {
     "name": "stderr",
     "output_type": "stream",
     "text": [
      "/var/folders/kw/9lnn_1r159n28p1krywmf8_w0000gq/T/ipykernel_32607/1022685395.py:2: DtypeWarning: Columns (12) have mixed types. Specify dtype option on import or set low_memory=False.\n",
      "  df_all = pd.read_csv('data/global-streetscapes/cities688_all_standard/tables/simplemaps.csv', index_col=0)\n"
     ]
    },
    {
     "data": {
      "text/html": [
       "<div>\n",
       "<style scoped>\n",
       "    .dataframe tbody tr th:only-of-type {\n",
       "        vertical-align: middle;\n",
       "    }\n",
       "\n",
       "    .dataframe tbody tr th {\n",
       "        vertical-align: top;\n",
       "    }\n",
       "\n",
       "    .dataframe thead th {\n",
       "        text-align: right;\n",
       "    }\n",
       "</style>\n",
       "<table border=\"1\" class=\"dataframe\">\n",
       "  <thead>\n",
       "    <tr style=\"text-align: right;\">\n",
       "      <th></th>\n",
       "      <th>source</th>\n",
       "      <th>orig_id</th>\n",
       "      <th>city</th>\n",
       "      <th>city_ascii</th>\n",
       "      <th>city_id</th>\n",
       "      <th>city_lat</th>\n",
       "      <th>city_lon</th>\n",
       "      <th>country</th>\n",
       "      <th>iso2</th>\n",
       "      <th>iso3</th>\n",
       "      <th>admin_name</th>\n",
       "      <th>capital</th>\n",
       "      <th>population</th>\n",
       "      <th>continent</th>\n",
       "    </tr>\n",
       "    <tr>\n",
       "      <th>uuid</th>\n",
       "      <th></th>\n",
       "      <th></th>\n",
       "      <th></th>\n",
       "      <th></th>\n",
       "      <th></th>\n",
       "      <th></th>\n",
       "      <th></th>\n",
       "      <th></th>\n",
       "      <th></th>\n",
       "      <th></th>\n",
       "      <th></th>\n",
       "      <th></th>\n",
       "      <th></th>\n",
       "      <th></th>\n",
       "    </tr>\n",
       "  </thead>\n",
       "  <tbody>\n",
       "    <tr>\n",
       "      <th>d3cca4a7-7994-47ff-9749-7df8ca7228e3</th>\n",
       "      <td>Mapillary</td>\n",
       "      <td>412070930384924</td>\n",
       "      <td>Urasoe</td>\n",
       "      <td>Urasoe</td>\n",
       "      <td>1392003314</td>\n",
       "      <td>26.2458</td>\n",
       "      <td>127.7219</td>\n",
       "      <td>Japan</td>\n",
       "      <td>JP</td>\n",
       "      <td>JPN</td>\n",
       "      <td>Okinawa</td>\n",
       "      <td>NaN</td>\n",
       "      <td>115855.0</td>\n",
       "      <td>Asia</td>\n",
       "    </tr>\n",
       "    <tr>\n",
       "      <th>33f474ab-496e-41a7-86a6-08fad8fe6638</th>\n",
       "      <td>Mapillary</td>\n",
       "      <td>897137344568478</td>\n",
       "      <td>Urasoe</td>\n",
       "      <td>Urasoe</td>\n",
       "      <td>1392003314</td>\n",
       "      <td>26.2458</td>\n",
       "      <td>127.7219</td>\n",
       "      <td>Japan</td>\n",
       "      <td>JP</td>\n",
       "      <td>JPN</td>\n",
       "      <td>Okinawa</td>\n",
       "      <td>NaN</td>\n",
       "      <td>115855.0</td>\n",
       "      <td>Asia</td>\n",
       "    </tr>\n",
       "    <tr>\n",
       "      <th>0da8bf8d-bf34-4d94-aa51-2a7a3c880f6b</th>\n",
       "      <td>Mapillary</td>\n",
       "      <td>266236242103987</td>\n",
       "      <td>Urasoe</td>\n",
       "      <td>Urasoe</td>\n",
       "      <td>1392003314</td>\n",
       "      <td>26.2458</td>\n",
       "      <td>127.7219</td>\n",
       "      <td>Japan</td>\n",
       "      <td>JP</td>\n",
       "      <td>JPN</td>\n",
       "      <td>Okinawa</td>\n",
       "      <td>NaN</td>\n",
       "      <td>115855.0</td>\n",
       "      <td>Asia</td>\n",
       "    </tr>\n",
       "    <tr>\n",
       "      <th>23c0aa2e-573b-4a3f-a65b-fb8f7349725b</th>\n",
       "      <td>Mapillary</td>\n",
       "      <td>646336503014104</td>\n",
       "      <td>Urasoe</td>\n",
       "      <td>Urasoe</td>\n",
       "      <td>1392003314</td>\n",
       "      <td>26.2458</td>\n",
       "      <td>127.7219</td>\n",
       "      <td>Japan</td>\n",
       "      <td>JP</td>\n",
       "      <td>JPN</td>\n",
       "      <td>Okinawa</td>\n",
       "      <td>NaN</td>\n",
       "      <td>115855.0</td>\n",
       "      <td>Asia</td>\n",
       "    </tr>\n",
       "    <tr>\n",
       "      <th>4f47ba8e-8437-4213-9721-8336b02ea703</th>\n",
       "      <td>Mapillary</td>\n",
       "      <td>404485487755735</td>\n",
       "      <td>Urasoe</td>\n",
       "      <td>Urasoe</td>\n",
       "      <td>1392003314</td>\n",
       "      <td>26.2458</td>\n",
       "      <td>127.7219</td>\n",
       "      <td>Japan</td>\n",
       "      <td>JP</td>\n",
       "      <td>JPN</td>\n",
       "      <td>Okinawa</td>\n",
       "      <td>NaN</td>\n",
       "      <td>115855.0</td>\n",
       "      <td>Asia</td>\n",
       "    </tr>\n",
       "  </tbody>\n",
       "</table>\n",
       "</div>"
      ],
      "text/plain": [
       "                                         source          orig_id    city  \\\n",
       "uuid                                                                       \n",
       "d3cca4a7-7994-47ff-9749-7df8ca7228e3  Mapillary  412070930384924  Urasoe   \n",
       "33f474ab-496e-41a7-86a6-08fad8fe6638  Mapillary  897137344568478  Urasoe   \n",
       "0da8bf8d-bf34-4d94-aa51-2a7a3c880f6b  Mapillary  266236242103987  Urasoe   \n",
       "23c0aa2e-573b-4a3f-a65b-fb8f7349725b  Mapillary  646336503014104  Urasoe   \n",
       "4f47ba8e-8437-4213-9721-8336b02ea703  Mapillary  404485487755735  Urasoe   \n",
       "\n",
       "                                     city_ascii     city_id  city_lat  \\\n",
       "uuid                                                                    \n",
       "d3cca4a7-7994-47ff-9749-7df8ca7228e3     Urasoe  1392003314   26.2458   \n",
       "33f474ab-496e-41a7-86a6-08fad8fe6638     Urasoe  1392003314   26.2458   \n",
       "0da8bf8d-bf34-4d94-aa51-2a7a3c880f6b     Urasoe  1392003314   26.2458   \n",
       "23c0aa2e-573b-4a3f-a65b-fb8f7349725b     Urasoe  1392003314   26.2458   \n",
       "4f47ba8e-8437-4213-9721-8336b02ea703     Urasoe  1392003314   26.2458   \n",
       "\n",
       "                                      city_lon country iso2 iso3 admin_name  \\\n",
       "uuid                                                                          \n",
       "d3cca4a7-7994-47ff-9749-7df8ca7228e3  127.7219   Japan   JP  JPN    Okinawa   \n",
       "33f474ab-496e-41a7-86a6-08fad8fe6638  127.7219   Japan   JP  JPN    Okinawa   \n",
       "0da8bf8d-bf34-4d94-aa51-2a7a3c880f6b  127.7219   Japan   JP  JPN    Okinawa   \n",
       "23c0aa2e-573b-4a3f-a65b-fb8f7349725b  127.7219   Japan   JP  JPN    Okinawa   \n",
       "4f47ba8e-8437-4213-9721-8336b02ea703  127.7219   Japan   JP  JPN    Okinawa   \n",
       "\n",
       "                                     capital  population continent  \n",
       "uuid                                                                \n",
       "d3cca4a7-7994-47ff-9749-7df8ca7228e3     NaN    115855.0      Asia  \n",
       "33f474ab-496e-41a7-86a6-08fad8fe6638     NaN    115855.0      Asia  \n",
       "0da8bf8d-bf34-4d94-aa51-2a7a3c880f6b     NaN    115855.0      Asia  \n",
       "23c0aa2e-573b-4a3f-a65b-fb8f7349725b     NaN    115855.0      Asia  \n",
       "4f47ba8e-8437-4213-9721-8336b02ea703     NaN    115855.0      Asia  "
      ]
     },
     "execution_count": 2,
     "metadata": {},
     "output_type": "execute_result"
    }
   ],
   "source": [
    "# the city information is available in the `simplemaps.csv` file\n",
    "df_all = pd.read_csv('data/global-streetscapes/data/simplemaps.csv', index_col=0)\n",
    "df_all.head()"
   ]
  },
  {
   "cell_type": "markdown",
   "id": "ce063c7b-93a5-44eb-ad56-374100da280d",
   "metadata": {},
   "source": [
    "# Filter based on cities"
   ]
  },
  {
   "cell_type": "code",
   "execution_count": 3,
   "id": "3f7e67fe-9d4a-4d18-bfbd-793ce3ec001e",
   "metadata": {},
   "outputs": [],
   "source": [
    "# Singapore, Amsterdam, San Francisco, Abuja, Santiago \n",
    "city_id = [1702341327, 1528355309, 1840021543, 1566342270, 1152554349]"
   ]
  },
  {
   "cell_type": "code",
   "execution_count": 4,
   "id": "8932b05d-f841-4725-a59c-1c363a82f902",
   "metadata": {},
   "outputs": [
    {
     "data": {
      "text/plain": [
       "city\n",
       "Abuja              440\n",
       "Amsterdam        26421\n",
       "San Francisco    68040\n",
       "Santiago         12214\n",
       "Singapore        22579\n",
       "dtype: int64"
      ]
     },
     "execution_count": 4,
     "metadata": {},
     "output_type": "execute_result"
    }
   ],
   "source": [
    "df_city = df_all[df_all['city_id'].isin(city_id)]\n",
    "df_city.groupby(\"city\").size()"
   ]
  },
  {
   "cell_type": "markdown",
   "id": "4ba3ef65-9836-4f97-8ae0-0f2ced3002c8",
   "metadata": {},
   "source": [
    "# Filter contextual information\n",
    "\n",
    "The filtering criteria is:\n",
    "\n",
    "- No panoramic images: `pano_status` == False\n",
    "- Good quality `quality` == good\n",
    "- No reflection `reflection` == no\n",
    "- During the day: `lighting_condition` == day\n",
    "- Clear weather :`weather` == clear\n",
    "- View direction `view_direction` == `front/back`"
   ]
  },
  {
   "cell_type": "code",
   "execution_count": 5,
   "id": "a6b6dc6b-c3cf-4ffd-8a70-2c1688490d49",
   "metadata": {},
   "outputs": [
    {
     "name": "stderr",
     "output_type": "stream",
     "text": [
      "/var/folders/kw/9lnn_1r159n28p1krywmf8_w0000gq/T/ipykernel_32607/2913868324.py:2: DtypeWarning: Columns (4) have mixed types. Specify dtype option on import or set low_memory=False.\n",
      "  df_contextual = pd.read_csv(\"data/global-streetscapes/cities688_all_standard/tables/contextual.csv\")\n"
     ]
    }
   ],
   "source": [
    "# load contextual information\n",
    "df_contextual = pd.read_csv(\"data/global-streetscapes/data/contextual.csv\")\n",
    "df_season = pd.read_csv(\"data/global-streetscapes/data/season.csv\")\n"
   ]
  },
  {
   "cell_type": "code",
   "execution_count": 6,
   "id": "ee48dc7c-8e69-45f1-970a-e2d5cecb6407",
   "metadata": {},
   "outputs": [
    {
     "data": {
      "text/plain": [
       "city\n",
       "Abuja              440\n",
       "Amsterdam        26421\n",
       "San Francisco    68040\n",
       "Santiago         12214\n",
       "Singapore        22579\n",
       "dtype: int64"
      ]
     },
     "execution_count": 6,
     "metadata": {},
     "output_type": "execute_result"
    }
   ],
   "source": [
    "# merge our filtered dataset with contextual data\n",
    "df_city_merged = df_city.merge(df_contextual, on=['uuid', 'source', 'orig_id'])\n",
    "df_city.groupby(\"city\").size()"
   ]
  },
  {
   "cell_type": "markdown",
   "id": "3fed6197-8a07-47f1-8053-6f68c274ca7a",
   "metadata": {},
   "source": [
    "# No panoramic"
   ]
  },
  {
   "cell_type": "code",
   "execution_count": 7,
   "id": "6ac8b8cf-2ea1-4230-b177-ce5cfccba752",
   "metadata": {},
   "outputs": [
    {
     "data": {
      "text/plain": [
       "city\n",
       "Abuja              440\n",
       "Amsterdam        10965\n",
       "San Francisco    65955\n",
       "Santiago         12214\n",
       "Singapore        22579\n",
       "dtype: int64"
      ]
     },
     "execution_count": 7,
     "metadata": {},
     "output_type": "execute_result"
    }
   ],
   "source": [
    "df_filtered = df_city_merged[df_city_merged['pano_status'] == False]\n",
    "df_filtered.groupby(\"city\").size()"
   ]
  },
  {
   "cell_type": "markdown",
   "id": "c993a05a-ca65-4dd0-9ba8-c610162819c3",
   "metadata": {},
   "source": [
    "# Quality"
   ]
  },
  {
   "cell_type": "code",
   "execution_count": 8,
   "id": "7ce8e896-6beb-47a0-bb68-a86c8c52174c",
   "metadata": {},
   "outputs": [
    {
     "data": {
      "text/plain": [
       "city\n",
       "Abuja              353\n",
       "Amsterdam         9814\n",
       "San Francisco    60565\n",
       "Santiago          9967\n",
       "Singapore        15880\n",
       "dtype: int64"
      ]
     },
     "execution_count": 8,
     "metadata": {},
     "output_type": "execute_result"
    }
   ],
   "source": [
    "df_filtered = df_filtered[df_filtered['quality'] == 'good']\n",
    "df_filtered.groupby(\"city\").size()"
   ]
  },
  {
   "cell_type": "markdown",
   "id": "da30ad8d-0089-4591-b4e0-f9bc73fd79b0",
   "metadata": {},
   "source": [
    "# Reflection"
   ]
  },
  {
   "cell_type": "code",
   "execution_count": 9,
   "id": "59acb03c-946e-48d1-a5e7-ade2d566a796",
   "metadata": {},
   "outputs": [
    {
     "data": {
      "text/plain": [
       "city\n",
       "Abuja              257\n",
       "Amsterdam         8588\n",
       "San Francisco    53933\n",
       "Santiago          7703\n",
       "Singapore         7249\n",
       "dtype: int64"
      ]
     },
     "execution_count": 9,
     "metadata": {},
     "output_type": "execute_result"
    }
   ],
   "source": [
    "df_filtered = df_filtered[df_filtered['reflection'] == 'no']\n",
    "df_filtered.groupby(\"city\").size()"
   ]
  },
  {
   "cell_type": "markdown",
   "id": "6e67f11f-1fff-4afe-a013-cf2b740eb72a",
   "metadata": {},
   "source": [
    "## Lighting condition"
   ]
  },
  {
   "cell_type": "code",
   "execution_count": 10,
   "id": "4085d645-e583-472d-b618-6fe31592483a",
   "metadata": {},
   "outputs": [
    {
     "data": {
      "text/plain": [
       "city\n",
       "Abuja              257\n",
       "Amsterdam         8094\n",
       "San Francisco    53411\n",
       "Santiago          7651\n",
       "Singapore         7213\n",
       "dtype: int64"
      ]
     },
     "execution_count": 10,
     "metadata": {},
     "output_type": "execute_result"
    }
   ],
   "source": [
    "df_filtered = df_filtered[df_filtered['lighting_condition'] == 'day']\n",
    "df_filtered.groupby(\"city\").size()"
   ]
  },
  {
   "cell_type": "markdown",
   "id": "f9b88be1-9ba7-4da3-b618-147ca24e8002",
   "metadata": {},
   "source": [
    "# Weather"
   ]
  },
  {
   "cell_type": "code",
   "execution_count": 11,
   "id": "d1ad9702-4049-4939-afea-be9906bcac63",
   "metadata": {},
   "outputs": [
    {
     "data": {
      "text/plain": [
       "city\n",
       "Abuja              188\n",
       "Amsterdam         5717\n",
       "San Francisco    46221\n",
       "Santiago          5203\n",
       "Singapore         4567\n",
       "dtype: int64"
      ]
     },
     "execution_count": 11,
     "metadata": {},
     "output_type": "execute_result"
    }
   ],
   "source": [
    "df_filtered = df_filtered[df_filtered['weather'] == 'clear']\n",
    "df_filtered.groupby(\"city\").size()"
   ]
  },
  {
   "cell_type": "markdown",
   "id": "399e6cbb-6090-42e8-8edd-51de50bbea4e",
   "metadata": {},
   "source": [
    "## View direction"
   ]
  },
  {
   "cell_type": "code",
   "execution_count": 12,
   "id": "1d740e04-836e-44b2-8841-f5ebc3be7746",
   "metadata": {},
   "outputs": [
    {
     "data": {
      "text/plain": [
       "city\n",
       "Abuja              185\n",
       "Amsterdam         3538\n",
       "San Francisco    25916\n",
       "Santiago           645\n",
       "Singapore         1985\n",
       "dtype: int64"
      ]
     },
     "execution_count": 12,
     "metadata": {},
     "output_type": "execute_result"
    }
   ],
   "source": [
    "df_filtered = df_filtered[df_filtered['view_direction'] == 'front/back']\n",
    "df_filtered.groupby(\"city\").size()"
   ]
  },
  {
   "cell_type": "markdown",
   "id": "3fe329b2-9420-4b21-a966-0a04c07a3b7c",
   "metadata": {},
   "source": [
    "# Save to csv "
   ]
  },
  {
   "cell_type": "code",
   "execution_count": 13,
   "id": "b135d46a-382c-49e6-bec3-1a0d1ea8e35a",
   "metadata": {},
   "outputs": [],
   "source": [
    "df_filtered.to_csv('download_imgs/selected_points.csv')"
   ]
  },
  {
   "cell_type": "code",
   "execution_count": null,
   "id": "a328a350-047c-4255-a12c-3c25d864dab4",
   "metadata": {},
   "outputs": [],
   "source": []
  }
 ],
 "metadata": {
  "kernelspec": {
   "display_name": "perception",
   "language": "python",
   "name": "perception"
  },
  "language_info": {
   "codemirror_mode": {
    "name": "ipython",
    "version": 3
   },
   "file_extension": ".py",
   "mimetype": "text/x-python",
   "name": "python",
   "nbconvert_exporter": "python",
   "pygments_lexer": "ipython3",
   "version": "3.11.9"
  },
  "widgets": {
   "application/vnd.jupyter.widget-state+json": {
    "state": {},
    "version_major": 2,
    "version_minor": 0
   }
  }
 },
 "nbformat": 4,
 "nbformat_minor": 5
}
