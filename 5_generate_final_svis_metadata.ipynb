{
 "cells": [
  {
   "cell_type": "code",
   "execution_count": 1,
   "id": "bd979547-4631-4a6e-9331-02125f286fe5",
   "metadata": {},
   "outputs": [],
   "source": [
    "import pandas as pd\n",
    "import os"
   ]
  },
  {
   "cell_type": "markdown",
   "id": "9eb31da8-34b3-442d-9b41-b7651234b38f",
   "metadata": {},
   "source": [
    "# Load list of final images"
   ]
  },
  {
   "cell_type": "code",
   "execution_count": 2,
   "id": "527e87b8-4b23-4db2-ae1b-a453eb95b91b",
   "metadata": {},
   "outputs": [],
   "source": [
    "FOLDER_PATH = \"data/svi/sampled/Final_80/\""
   ]
  },
  {
   "cell_type": "code",
   "execution_count": 3,
   "id": "cc260347-e65c-43b7-b367-409f9438ab8d",
   "metadata": {},
   "outputs": [],
   "source": [
    "# the final SVIs are in folders under the name of their respective cities\n",
    "all_folders = os.listdir(FOLDER_PATH)\n",
    "cities_folders = [entry for entry in all_folders if os.path.isdir(os.path.join(FOLDER_PATH, entry))]"
   ]
  },
  {
   "cell_type": "code",
   "execution_count": 4,
   "id": "c8c53e75-662e-48a4-b605-1135d2f9814c",
   "metadata": {},
   "outputs": [],
   "source": [
    "# create empty dataframe\n",
    "df_metadata = pd.DataFrame(columns=['uuid','city'])\n",
    "\n",
    "# populate the dataframe with all uuids (filenames)\n",
    "for city in cities_folders:\n",
    "    # svis location\n",
    "    all_SVIs = [entry for entry in os.listdir(FOLDER_PATH + city) if entry != '.DS_Store']\n",
    "\n",
    "    # filter out only files and remove the extensions\n",
    "    filenames = [os.path.splitext(entry)[0] for entry in all_SVIs if os.path.isfile(os.path.join(FOLDER_PATH + city, entry))]\n",
    "    df_aux = pd.DataFrame()\n",
    "    df_aux['uuid'] = filenames\n",
    "    df_aux['city'] = city\n",
    "    df_metadata = pd.concat([df_metadata, df_aux], ignore_index=True)\n"
   ]
  },
  {
   "cell_type": "code",
   "execution_count": 5,
   "id": "679da14a-2a3c-44c8-a68e-4fa59ab6a96a",
   "metadata": {},
   "outputs": [
    {
     "data": {
      "text/html": [
       "<div>\n",
       "<style scoped>\n",
       "    .dataframe tbody tr th:only-of-type {\n",
       "        vertical-align: middle;\n",
       "    }\n",
       "\n",
       "    .dataframe tbody tr th {\n",
       "        vertical-align: top;\n",
       "    }\n",
       "\n",
       "    .dataframe thead th {\n",
       "        text-align: right;\n",
       "    }\n",
       "</style>\n",
       "<table border=\"1\" class=\"dataframe\">\n",
       "  <thead>\n",
       "    <tr style=\"text-align: right;\">\n",
       "      <th></th>\n",
       "      <th>uuid</th>\n",
       "      <th>city</th>\n",
       "    </tr>\n",
       "  </thead>\n",
       "  <tbody>\n",
       "    <tr>\n",
       "      <th>0</th>\n",
       "      <td>dc6eee81-9513-4edb-813b-05b83b5127be</td>\n",
       "      <td>Santiago</td>\n",
       "    </tr>\n",
       "    <tr>\n",
       "      <th>1</th>\n",
       "      <td>50811b7a-5b0f-4581-92fa-017e6ff26ba0</td>\n",
       "      <td>Santiago</td>\n",
       "    </tr>\n",
       "    <tr>\n",
       "      <th>2</th>\n",
       "      <td>35c8af9e-5e36-4810-9824-59b9b273fbcf</td>\n",
       "      <td>Santiago</td>\n",
       "    </tr>\n",
       "    <tr>\n",
       "      <th>3</th>\n",
       "      <td>73f3f2b8-dd17-440b-a6f3-c0d624d7ad22</td>\n",
       "      <td>Santiago</td>\n",
       "    </tr>\n",
       "    <tr>\n",
       "      <th>4</th>\n",
       "      <td>3cc24150-c590-4d83-883c-44855010e338</td>\n",
       "      <td>Santiago</td>\n",
       "    </tr>\n",
       "    <tr>\n",
       "      <th>...</th>\n",
       "      <td>...</td>\n",
       "      <td>...</td>\n",
       "    </tr>\n",
       "    <tr>\n",
       "      <th>395</th>\n",
       "      <td>416a4869-428a-475a-92bd-19f2611b2925</td>\n",
       "      <td>Amsterdam</td>\n",
       "    </tr>\n",
       "    <tr>\n",
       "      <th>396</th>\n",
       "      <td>dad8c5a5-80cd-4d1e-a3cc-b429cdbb90c2</td>\n",
       "      <td>Amsterdam</td>\n",
       "    </tr>\n",
       "    <tr>\n",
       "      <th>397</th>\n",
       "      <td>b7abb7f7-7031-4fc9-8f16-7e591dcdfbce</td>\n",
       "      <td>Amsterdam</td>\n",
       "    </tr>\n",
       "    <tr>\n",
       "      <th>398</th>\n",
       "      <td>41a8b6ce-02df-47e8-b7d1-10cce55b6575</td>\n",
       "      <td>Amsterdam</td>\n",
       "    </tr>\n",
       "    <tr>\n",
       "      <th>399</th>\n",
       "      <td>e97e0042-0ca3-47a2-a514-7422cb60e6a6</td>\n",
       "      <td>Amsterdam</td>\n",
       "    </tr>\n",
       "  </tbody>\n",
       "</table>\n",
       "<p>400 rows × 2 columns</p>\n",
       "</div>"
      ],
      "text/plain": [
       "                                     uuid       city\n",
       "0    dc6eee81-9513-4edb-813b-05b83b5127be   Santiago\n",
       "1    50811b7a-5b0f-4581-92fa-017e6ff26ba0   Santiago\n",
       "2    35c8af9e-5e36-4810-9824-59b9b273fbcf   Santiago\n",
       "3    73f3f2b8-dd17-440b-a6f3-c0d624d7ad22   Santiago\n",
       "4    3cc24150-c590-4d83-883c-44855010e338   Santiago\n",
       "..                                    ...        ...\n",
       "395  416a4869-428a-475a-92bd-19f2611b2925  Amsterdam\n",
       "396  dad8c5a5-80cd-4d1e-a3cc-b429cdbb90c2  Amsterdam\n",
       "397  b7abb7f7-7031-4fc9-8f16-7e591dcdfbce  Amsterdam\n",
       "398  41a8b6ce-02df-47e8-b7d1-10cce55b6575  Amsterdam\n",
       "399  e97e0042-0ca3-47a2-a514-7422cb60e6a6  Amsterdam\n",
       "\n",
       "[400 rows x 2 columns]"
      ]
     },
     "execution_count": 5,
     "metadata": {},
     "output_type": "execute_result"
    }
   ],
   "source": [
    "df_metadata"
   ]
  },
  {
   "cell_type": "code",
   "execution_count": 6,
   "id": "96926d2e-d505-4da2-b273-31f971ced81b",
   "metadata": {},
   "outputs": [],
   "source": [
    "df_metadata.to_csv(\"metadata_80_final.csv\")"
   ]
  },
  {
   "cell_type": "code",
   "execution_count": null,
   "id": "a77ad2f4-d0f9-4af1-bdc1-cd44d4837e13",
   "metadata": {},
   "outputs": [],
   "source": []
  }
 ],
 "metadata": {
  "kernelspec": {
   "display_name": "Python 3 (ipykernel)",
   "language": "python",
   "name": "python3"
  },
  "language_info": {
   "codemirror_mode": {
    "name": "ipython",
    "version": 3
   },
   "file_extension": ".py",
   "mimetype": "text/x-python",
   "name": "python",
   "nbconvert_exporter": "python",
   "pygments_lexer": "ipython3",
   "version": "3.11.9"
  },
  "widgets": {
   "application/vnd.jupyter.widget-state+json": {
    "state": {},
    "version_major": 2,
    "version_minor": 0
   }
  }
 },
 "nbformat": 4,
 "nbformat_minor": 5
}
