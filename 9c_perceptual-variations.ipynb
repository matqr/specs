{
 "cells": [
  {
   "cell_type": "code",
   "execution_count": 1,
   "id": "0df534fe-65a8-4db5-ae3f-bbd137a497ae",
   "metadata": {
    "execution": {
     "iopub.execute_input": "2024-10-09T07:24:23.974820Z",
     "iopub.status.busy": "2024-10-09T07:24:23.974647Z",
     "iopub.status.idle": "2024-10-09T07:24:25.337454Z",
     "shell.execute_reply": "2024-10-09T07:24:25.337064Z",
     "shell.execute_reply.started": "2024-10-09T07:24:23.974799Z"
    }
   },
   "outputs": [],
   "source": [
    "import matplotlib.pyplot as plt\n",
    "import numpy as np\n",
    "import pandas as pd\n",
    "import seaborn as sns\n",
    "\n",
    "from utils import calculate_qscore"
   ]
  },
  {
   "cell_type": "markdown",
   "id": "d24270d9-1e2a-4e7b-ad8d-ad705ef18f1a",
   "metadata": {},
   "source": [
    "# Load data"
   ]
  },
  {
   "cell_type": "code",
   "execution_count": 2,
   "id": "2fc9f2fd-7316-4b60-81f4-9f7a1263088d",
   "metadata": {
    "execution": {
     "iopub.execute_input": "2024-10-09T07:24:25.338438Z",
     "iopub.status.busy": "2024-10-09T07:24:25.338216Z",
     "iopub.status.idle": "2024-10-09T07:24:25.340705Z",
     "shell.execute_reply": "2024-10-09T07:24:25.340380Z",
     "shell.execute_reply.started": "2024-10-09T07:24:25.338419Z"
    }
   },
   "outputs": [],
   "source": [
    "dataset_file = \"data/labels/processed/global_mapped_cleaned.csv\"  # full dataset\n",
    "metadata_file = \"data/svi/metadata.csv\""
   ]
  },
  {
   "cell_type": "code",
   "execution_count": 3,
   "id": "c6e47409-24db-48bd-a3ba-85263edeb3f2",
   "metadata": {
    "execution": {
     "iopub.execute_input": "2024-10-09T07:24:25.341420Z",
     "iopub.status.busy": "2024-10-09T07:24:25.341285Z",
     "iopub.status.idle": "2024-10-09T07:24:25.489274Z",
     "shell.execute_reply": "2024-10-09T07:24:25.488959Z",
     "shell.execute_reply.started": "2024-10-09T07:24:25.341409Z"
    }
   },
   "outputs": [
    {
     "data": {
      "text/html": [
       "<div>\n",
       "<style scoped>\n",
       "    .dataframe tbody tr th:only-of-type {\n",
       "        vertical-align: middle;\n",
       "    }\n",
       "\n",
       "    .dataframe tbody tr th {\n",
       "        vertical-align: top;\n",
       "    }\n",
       "\n",
       "    .dataframe thead th {\n",
       "        text-align: right;\n",
       "    }\n",
       "</style>\n",
       "<table border=\"1\" class=\"dataframe\">\n",
       "  <thead>\n",
       "    <tr style=\"text-align: right;\">\n",
       "      <th></th>\n",
       "      <th>uuid</th>\n",
       "      <th>city</th>\n",
       "      <th>Relabelled Name</th>\n",
       "      <th>Image number</th>\n",
       "    </tr>\n",
       "  </thead>\n",
       "  <tbody>\n",
       "    <tr>\n",
       "      <th>0</th>\n",
       "      <td>dc6eee81-9513-4edb-813b-05b83b5127be</td>\n",
       "      <td>Santiago</td>\n",
       "      <td>Image_1</td>\n",
       "      <td>1</td>\n",
       "    </tr>\n",
       "    <tr>\n",
       "      <th>1</th>\n",
       "      <td>50811b7a-5b0f-4581-92fa-017e6ff26ba0</td>\n",
       "      <td>Santiago</td>\n",
       "      <td>Image_2</td>\n",
       "      <td>2</td>\n",
       "    </tr>\n",
       "    <tr>\n",
       "      <th>2</th>\n",
       "      <td>35c8af9e-5e36-4810-9824-59b9b273fbcf</td>\n",
       "      <td>Santiago</td>\n",
       "      <td>Image_3</td>\n",
       "      <td>3</td>\n",
       "    </tr>\n",
       "    <tr>\n",
       "      <th>3</th>\n",
       "      <td>3a439403-305b-4be7-ba43-f8ff8e75c31c</td>\n",
       "      <td>Santiago</td>\n",
       "      <td>Image_4</td>\n",
       "      <td>4</td>\n",
       "    </tr>\n",
       "    <tr>\n",
       "      <th>4</th>\n",
       "      <td>3cc24150-c590-4d83-883c-44855010e338</td>\n",
       "      <td>Santiago</td>\n",
       "      <td>Image_5</td>\n",
       "      <td>5</td>\n",
       "    </tr>\n",
       "    <tr>\n",
       "      <th>...</th>\n",
       "      <td>...</td>\n",
       "      <td>...</td>\n",
       "      <td>...</td>\n",
       "      <td>...</td>\n",
       "    </tr>\n",
       "    <tr>\n",
       "      <th>395</th>\n",
       "      <td>416a4869-428a-475a-92bd-19f2611b2925</td>\n",
       "      <td>Amsterdam</td>\n",
       "      <td>Image_396</td>\n",
       "      <td>396</td>\n",
       "    </tr>\n",
       "    <tr>\n",
       "      <th>396</th>\n",
       "      <td>dad8c5a5-80cd-4d1e-a3cc-b429cdbb90c2</td>\n",
       "      <td>Amsterdam</td>\n",
       "      <td>Image_397</td>\n",
       "      <td>397</td>\n",
       "    </tr>\n",
       "    <tr>\n",
       "      <th>397</th>\n",
       "      <td>b7abb7f7-7031-4fc9-8f16-7e591dcdfbce</td>\n",
       "      <td>Amsterdam</td>\n",
       "      <td>Image_398</td>\n",
       "      <td>398</td>\n",
       "    </tr>\n",
       "    <tr>\n",
       "      <th>398</th>\n",
       "      <td>41a8b6ce-02df-47e8-b7d1-10cce55b6575</td>\n",
       "      <td>Amsterdam</td>\n",
       "      <td>Image_399</td>\n",
       "      <td>399</td>\n",
       "    </tr>\n",
       "    <tr>\n",
       "      <th>399</th>\n",
       "      <td>e97e0042-0ca3-47a2-a514-7422cb60e6a6</td>\n",
       "      <td>Amsterdam</td>\n",
       "      <td>Image_400</td>\n",
       "      <td>400</td>\n",
       "    </tr>\n",
       "  </tbody>\n",
       "</table>\n",
       "<p>400 rows × 4 columns</p>\n",
       "</div>"
      ],
      "text/plain": [
       "                                     uuid       city Relabelled Name  \\\n",
       "0    dc6eee81-9513-4edb-813b-05b83b5127be   Santiago         Image_1   \n",
       "1    50811b7a-5b0f-4581-92fa-017e6ff26ba0   Santiago         Image_2   \n",
       "2    35c8af9e-5e36-4810-9824-59b9b273fbcf   Santiago         Image_3   \n",
       "3    3a439403-305b-4be7-ba43-f8ff8e75c31c   Santiago         Image_4   \n",
       "4    3cc24150-c590-4d83-883c-44855010e338   Santiago         Image_5   \n",
       "..                                    ...        ...             ...   \n",
       "395  416a4869-428a-475a-92bd-19f2611b2925  Amsterdam       Image_396   \n",
       "396  dad8c5a5-80cd-4d1e-a3cc-b429cdbb90c2  Amsterdam       Image_397   \n",
       "397  b7abb7f7-7031-4fc9-8f16-7e591dcdfbce  Amsterdam       Image_398   \n",
       "398  41a8b6ce-02df-47e8-b7d1-10cce55b6575  Amsterdam       Image_399   \n",
       "399  e97e0042-0ca3-47a2-a514-7422cb60e6a6  Amsterdam       Image_400   \n",
       "\n",
       "     Image number  \n",
       "0               1  \n",
       "1               2  \n",
       "2               3  \n",
       "3               4  \n",
       "4               5  \n",
       "..            ...  \n",
       "395           396  \n",
       "396           397  \n",
       "397           398  \n",
       "398           399  \n",
       "399           400  \n",
       "\n",
       "[400 rows x 4 columns]"
      ]
     },
     "execution_count": 3,
     "metadata": {},
     "output_type": "execute_result"
    }
   ],
   "source": [
    "raw_df = pd.read_csv(dataset_file, index_col=0)\n",
    "metadata_df = pd.read_csv(metadata_file, index_col=0)\n",
    "metadata_df"
   ]
  },
  {
   "cell_type": "markdown",
   "id": "dfc103e7-ca03-48a0-bd28-b0677fb86d03",
   "metadata": {},
   "source": [
    "# Compute Q-score\n",
    "\n",
    "Come up with a dataframe that have the scores for images based on the location of the SVI and location of participants\n",
    "\n",
    "In [PP2](https://arxiv.org/abs/1608.01769), page 6, the max comparison across all indicators are:\n",
    "- min 2.40\n",
    "- avg 4.05, however on page 7 they state 3.35\n",
    "- max 7.67 "
   ]
  },
  {
   "cell_type": "code",
   "execution_count": 4,
   "id": "2c0c97d9-dca7-4e9a-9999-283e3a407d0c",
   "metadata": {
    "execution": {
     "iopub.execute_input": "2024-10-09T07:24:25.490000Z",
     "iopub.status.busy": "2024-10-09T07:24:25.489869Z",
     "iopub.status.idle": "2024-10-09T07:25:45.455509Z",
     "shell.execute_reply": "2024-10-09T07:25:45.455102Z",
     "shell.execute_reply.started": "2024-10-09T07:24:25.489989Z"
    }
   },
   "outputs": [],
   "source": [
    "to_from_df = pd.DataFrame()  # placeholder to keep track of data\n",
    "min_filter = 4\n",
    "countries = raw_df[\"Country\"].unique()\n",
    "\n",
    "for c in countries:\n",
    "    country_df = raw_df[raw_df[\"Country\"] == c]\n",
    "    country_df_scores = calculate_qscore(country_df)\n",
    "    country_df_scores_merged = pd.merge(\n",
    "        country_df_scores,\n",
    "        metadata_df,\n",
    "        left_on=\"Image\",\n",
    "        right_on=\"Image number\",\n",
    "        how=\"left\",\n",
    "    )\n",
    "    country_df_scores_merged[\"participants_from\"] = c\n",
    "    country_df_scores_merged[\"SVI_from\"] = country_df_scores_merged[\"city\"].map(\n",
    "        {\n",
    "            \"Singapore\": \"Singapore\",\n",
    "            \"San Francisco\": \"USA\",\n",
    "            \"Amsterdam\": \"Netherlands\",\n",
    "            \"Santiago\": \"Chile\",\n",
    "            \"Abuja\": \"Nigeria\",\n",
    "        }\n",
    "    )\n",
    "    to_from_df = pd.concat([to_from_df, country_df_scores_merged])\n",
    "\n",
    "to_from_df['Score'] = round(to_from_df['Score'], 2)\n",
    "to_from_df.to_csv('data/labels/processed/to_from_scores.csv')"
   ]
  },
  {
   "cell_type": "code",
   "execution_count": 5,
   "id": "19a17bea-490c-407b-a3bd-27c158fc3811",
   "metadata": {
    "execution": {
     "iopub.execute_input": "2024-10-09T07:25:45.456333Z",
     "iopub.status.busy": "2024-10-09T07:25:45.456178Z",
     "iopub.status.idle": "2024-10-09T07:25:45.459425Z",
     "shell.execute_reply": "2024-10-09T07:25:45.459131Z",
     "shell.execute_reply.started": "2024-10-09T07:25:45.456318Z"
    }
   },
   "outputs": [
    {
     "name": "stdout",
     "output_type": "stream",
     "text": [
      "0\n",
      "17\n"
     ]
    }
   ],
   "source": [
    "print(to_from_df['Num_comparisons'].min())\n",
    "print(to_from_df['Num_comparisons'].max())"
   ]
  },
  {
   "cell_type": "code",
   "execution_count": null,
   "id": "aa6fe25d-4d66-45e5-98e1-56e21f0be775",
   "metadata": {},
   "outputs": [],
   "source": []
  }
 ],
 "metadata": {
  "kernelspec": {
   "display_name": "Python (python-perception)",
   "language": "python",
   "name": "perception"
  },
  "language_info": {
   "codemirror_mode": {
    "name": "ipython",
    "version": 3
   },
   "file_extension": ".py",
   "mimetype": "text/x-python",
   "name": "python",
   "nbconvert_exporter": "python",
   "pygments_lexer": "ipython3",
   "version": "3.11.10"
  },
  "widgets": {
   "application/vnd.jupyter.widget-state+json": {
    "state": {},
    "version_major": 2,
    "version_minor": 0
   }
  }
 },
 "nbformat": 4,
 "nbformat_minor": 5
}
